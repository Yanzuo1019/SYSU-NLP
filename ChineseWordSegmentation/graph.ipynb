{
 "cells": [
  {
   "cell_type": "code",
   "execution_count": 1,
   "metadata": {},
   "outputs": [],
   "source": [
    "import os\n",
    "import logging\n",
    "import argparse\n",
    "import random\n",
    "\n",
    "import torch\n",
    "import torch.optim as optim\n",
    "\n",
    "from model import BiLSTM_CRF\n",
    "\n",
    "id2tag = ['B', 'M', 'E', 'S']\n",
    "tag2id = {'B': 0, 'M': 1, 'E': 2, 'S': 3}\n",
    "id2word = []\n",
    "word2id = {}\n",
    "\n",
    "START_TAG = \"<START>\"\n",
    "STOP_TAG = \"<STOP>\"\n",
    "tag2id[START_TAG]=len(tag2id)\n",
    "tag2id[STOP_TAG]=len(tag2id)"
   ]
  },
  {
   "cell_type": "code",
   "execution_count": 2,
   "metadata": {},
   "outputs": [],
   "source": [
    "def item2tag(item):\n",
    "    result = []\n",
    "    if len(item) == 1:\n",
    "        result.append(tag2id['S'])\n",
    "    elif len(item) == 2:\n",
    "        result.extend([tag2id['B'], tag2id['E']])\n",
    "    else:\n",
    "        M_num = len(item) - 2\n",
    "        M_list = [tag2id['M']] * M_num\n",
    "        result.append(tag2id['B'])\n",
    "        result.extend(M_list)\n",
    "        result.append(tag2id['E'])\n",
    "    return result"
   ]
  },
  {
   "cell_type": "code",
   "execution_count": 13,
   "metadata": {},
   "outputs": [],
   "source": [
    "def test(x_test, y_test):\n",
    "#     logger.info(\"Testing...Wait!\")\n",
    "\n",
    "    pred_num = 0\n",
    "    gt_num = 0\n",
    "    correct_pred_num = 0\n",
    "\n",
    "    for sentence, tags in zip(x_test, y_test):\n",
    "        with torch.no_grad():\n",
    "            sentence = torch.LongTensor(sentence).to(device)\n",
    "            predict = model.decode(sentence)\n",
    "        # print(\"sentence\", sentence)\n",
    "        # print(\"tags\", tags)\n",
    "        # print(\"predict\", predict)\n",
    "\n",
    "        predict_item = []\n",
    "        gt_item = []\n",
    "\n",
    "        temp_item = []\n",
    "        for i in range(len(sentence)):\n",
    "            if id2tag[predict[i]] == \"B\":\n",
    "                temp_item = [i]\n",
    "            elif id2tag[predict[i]] == \"M\" and len(temp_item) != 0:\n",
    "                temp_item.append(i)\n",
    "            elif id2tag[predict[i]] == \"E\" and len(temp_item) != 0:\n",
    "                temp_item.append(i)\n",
    "                predict_item.append(temp_item)\n",
    "                temp_item = []\n",
    "            elif id2tag[predict[i]] == \"S\":\n",
    "                temp_item = [i]\n",
    "                predict_item.append(temp_item)\n",
    "                temp_item = []\n",
    "            else:\n",
    "                temp_item = []\n",
    "\n",
    "        # print(predict_item)\n",
    "\n",
    "        temp_item = []\n",
    "        for i in range(len(sentence)):\n",
    "            if id2tag[tags[i]] == \"B\":\n",
    "                temp_item = [i]\n",
    "            elif id2tag[tags[i]] == \"M\" and len(temp_item) != 0:\n",
    "                temp_item.append(i)\n",
    "            elif id2tag[tags[i]] == \"E\" and len(temp_item) != 0:\n",
    "                temp_item.append(i)\n",
    "                gt_item.append(temp_item)\n",
    "                temp_item = []\n",
    "            elif id2tag[tags[i]] == \"S\":\n",
    "                temp_item = [i]\n",
    "                gt_item.append(temp_item)\n",
    "                temp_item = []\n",
    "            else:\n",
    "                gt_item = []\n",
    "        \n",
    "        # print(gt_item)\n",
    "    \n",
    "        correct_pred = [i for i in predict_item if i in gt_item]\n",
    "        pred_num += len(predict_item)\n",
    "        gt_num += len(gt_item)\n",
    "        correct_pred_num += len(correct_pred)\n",
    "\n",
    "        # print(\"correct_pred\", correct_pred)\n",
    "        # exit()\n",
    "\n",
    "    if correct_pred_num > 0:\n",
    "        precision = float(correct_pred_num) / float(pred_num)\n",
    "        recall = float(correct_pred_num) / float(gt_num)\n",
    "        F1 = (2 * precision * recall) / (precision + recall)\n",
    "#         logger.info(\"Test Result --- precision = {:.4f}\".format(precision))\n",
    "#         logger.info(\"Test Result --- recall = {:.4f}\".format(recall))\n",
    "#         logger.info(\"Test Result --- F1 score = {:.4f}\".format(F1))\n",
    "        return F1\n",
    "    else:\n",
    "#         logger.info(\"Test Result --- F1 score = {:.4f}\".format(0.0))\n",
    "        return 0.0"
   ]
  },
  {
   "cell_type": "code",
   "execution_count": 4,
   "metadata": {},
   "outputs": [],
   "source": [
    "def load_data(data, x, y, word_num, embedding_list, embedding_size):\n",
    "    for line in data:\n",
    "        line = line.strip()\n",
    "        if not line: continue\n",
    "\n",
    "        line_x = []\n",
    "        for i in range(len(line)):\n",
    "            if line[i] == ' ': continue\n",
    "\n",
    "            if (line[i] in id2word):\n",
    "                line_x.append(word2id[line[i]])\n",
    "            else:\n",
    "                id2word.append(line[i])\n",
    "                word2id[line[i]] = word_num\n",
    "                line_x.append(word_num)\n",
    "                if embedding_list is not None:\n",
    "                    embedding_list.append([random.normalvariate(0, 1) for j in range(embedding_size)])\n",
    "                word_num += 1\n",
    "\n",
    "        line_split = line.split()\n",
    "        line_y = []\n",
    "        for item in line_split:\n",
    "            line_y.extend(item2tag(item))\n",
    "\n",
    "        x.append(line_x)\n",
    "        y.append(line_y)\n",
    "    \n",
    "    return x, y, word_num, embedding_list"
   ]
  },
  {
   "cell_type": "code",
   "execution_count": 5,
   "metadata": {},
   "outputs": [],
   "source": [
    "embedding_path = \"embedding/bert_embedding.txt\"\n",
    "train_data_path = \"data/msr_training.utf8\"\n",
    "test_data_path = \"data/msr_test_gold.utf8\"\n",
    "EMBEDDING_SIZE = 768\n",
    "HIDDEN_DIM = 1536\n",
    "\n",
    "device = torch.device(\"cuda:0\" if torch.cuda.is_available() else \"cpu\")\n",
    "word_num = 0\n",
    "embedding_list = None\n",
    "if embedding_path is not None:\n",
    "    embedding_list = []\n",
    "    with open(embedding_path, \"r\", encoding=\"utf8\") as embedding:\n",
    "        for line in embedding:\n",
    "            id2word.append(line[0])\n",
    "            word2id[line[0]] = word_num\n",
    "            line_split = line[1:].strip().split()\n",
    "            embedding_list.append([float(x) for x in line_split])\n",
    "            word_num += 1"
   ]
  },
  {
   "cell_type": "code",
   "execution_count": 6,
   "metadata": {},
   "outputs": [],
   "source": [
    "x_train = []\n",
    "y_train = []\n",
    "# logger.info(\"Reading train data\")\n",
    "with open(train_data_path, \"r\", encoding=\"utf8\") as train_data:\n",
    "    x_train, y_train, word_num, embedding_list = load_data(train_data, x_train, y_train, word_num, embedding_list, EMBEDDING_SIZE)\n",
    "# logger.info(\"Read train data successfully\")\n",
    "\n",
    "x_test = []\n",
    "y_test = []\n",
    "# logger.info(\"Reading test data.\")\n",
    "with open(test_data_path, \"r\", encoding=\"utf8\") as test_data:\n",
    "    x_test, y_test, word_num, embedding_list = load_data(test_data, x_test, y_test, word_num, embedding_list, EMBEDDING_SIZE)\n",
    "# logger.info(\"Read test data successfully\")"
   ]
  },
  {
   "cell_type": "code",
   "execution_count": 7,
   "metadata": {},
   "outputs": [],
   "source": [
    "model = BiLSTM_CRF(len(word2id)+1, tag2id, EMBEDDING_SIZE, HIDDEN_DIM, device, embedding_list).to(device)"
   ]
  },
  {
   "cell_type": "code",
   "execution_count": 14,
   "metadata": {},
   "outputs": [
    {
     "data": {
      "application/vnd.jupyter.widget-view+json": {
       "model_id": "0ffd40ff0dbe4cfaace3264703683a69",
       "version_major": 2,
       "version_minor": 0
      },
      "text/plain": [
       "HBox(children=(HTML(value=''), FloatProgress(value=0.0, max=54.0), HTML(value='')))"
      ]
     },
     "metadata": {},
     "output_type": "display_data"
    },
    {
     "name": "stdout",
     "output_type": "stream",
     "text": [
      "checkpoint/bilstm_crf_epoch_1_iters_10000.pth 0.7538913471220197\n",
      "checkpoint/bilstm_crf_epoch_1_iters_20000.pth 0.7912198639254548\n",
      "checkpoint/bilstm_crf_epoch_1_iters_30000.pth 0.8097245812718967\n",
      "checkpoint/bilstm_crf_epoch_1_iters_40000.pth 0.8241435989390714\n",
      "checkpoint/bilstm_crf_epoch_1_iters_50000.pth 0.829796940609085\n",
      "checkpoint/bilstm_crf_epoch_1_iters_60000.pth 0.8375412399597228\n",
      "checkpoint/bilstm_crf_epoch_1_iters_70000.pth 0.8441543870147354\n",
      "checkpoint/bilstm_crf_epoch_1_iters_80000.pth 0.8489149168987428\n",
      "checkpoint/bilstm_crf_epoch_1_iters_86918.pth 0.8542264128067746\n",
      "checkpoint/bilstm_crf_epoch_2_iters_10000.pth 0.8574983860857199\n",
      "checkpoint/bilstm_crf_epoch_2_iters_20000.pth 0.862316142245392\n",
      "checkpoint/bilstm_crf_epoch_2_iters_30000.pth 0.86772398053052\n",
      "checkpoint/bilstm_crf_epoch_2_iters_40000.pth 0.8720196878392035\n",
      "checkpoint/bilstm_crf_epoch_2_iters_50000.pth 0.8749393362451936\n",
      "checkpoint/bilstm_crf_epoch_2_iters_60000.pth 0.8768123374141032\n",
      "checkpoint/bilstm_crf_epoch_2_iters_70000.pth 0.879972230561393\n",
      "checkpoint/bilstm_crf_epoch_2_iters_80000.pth 0.8806760764628192\n",
      "checkpoint/bilstm_crf_epoch_2_iters_86918.pth 0.8835206955383644\n",
      "checkpoint/bilstm_crf_epoch_3_iters_10000.pth 0.8869490246793835\n",
      "checkpoint/bilstm_crf_epoch_3_iters_20000.pth 0.8887458607341074\n",
      "checkpoint/bilstm_crf_epoch_3_iters_30000.pth 0.8930744306394088\n",
      "checkpoint/bilstm_crf_epoch_3_iters_40000.pth 0.8950819057966264\n",
      "checkpoint/bilstm_crf_epoch_3_iters_50000.pth 0.8980632865270888\n",
      "checkpoint/bilstm_crf_epoch_3_iters_60000.pth 0.8979397337070778\n",
      "checkpoint/bilstm_crf_epoch_3_iters_70000.pth 0.8990805871470027\n",
      "checkpoint/bilstm_crf_epoch_3_iters_80000.pth 0.8997357756067288\n",
      "checkpoint/bilstm_crf_epoch_3_iters_86918.pth 0.9028362254188336\n",
      "checkpoint/bilstm_crf_epoch_4_iters_10000.pth 0.9038788208684879\n",
      "checkpoint/bilstm_crf_epoch_4_iters_20000.pth 0.9053539829206684\n",
      "checkpoint/bilstm_crf_epoch_4_iters_30000.pth 0.9087634661951264\n",
      "checkpoint/bilstm_crf_epoch_4_iters_40000.pth 0.9098505784814278\n",
      "checkpoint/bilstm_crf_epoch_4_iters_50000.pth 0.9115536880284554\n",
      "checkpoint/bilstm_crf_epoch_4_iters_60000.pth 0.9116310385456993\n",
      "checkpoint/bilstm_crf_epoch_4_iters_70000.pth 0.9115313241408469\n",
      "checkpoint/bilstm_crf_epoch_4_iters_80000.pth 0.9120202343118265\n",
      "checkpoint/bilstm_crf_epoch_4_iters_86918.pth 0.9146681905047402\n",
      "checkpoint/bilstm_crf_epoch_5_iters_10000.pth 0.9159093469525705\n",
      "checkpoint/bilstm_crf_epoch_5_iters_20000.pth 0.9169368477113252\n",
      "checkpoint/bilstm_crf_epoch_5_iters_30000.pth 0.9195987171646912\n",
      "checkpoint/bilstm_crf_epoch_5_iters_40000.pth 0.920713642841071\n",
      "checkpoint/bilstm_crf_epoch_5_iters_50000.pth 0.9213031550709668\n",
      "checkpoint/bilstm_crf_epoch_5_iters_60000.pth 0.9209648363474721\n",
      "checkpoint/bilstm_crf_epoch_5_iters_70000.pth 0.9208043600826912\n",
      "checkpoint/bilstm_crf_epoch_5_iters_80000.pth 0.9238449592034946\n",
      "checkpoint/bilstm_crf_epoch_5_iters_86918.pth 0.9254188687731925\n",
      "checkpoint/bilstm_crf_epoch_6_iters_10000.pth 0.9257476103191086\n",
      "checkpoint/bilstm_crf_epoch_6_iters_20000.pth 0.9257095236757586\n",
      "checkpoint/bilstm_crf_epoch_6_iters_30000.pth 0.9268210415856614\n",
      "checkpoint/bilstm_crf_epoch_6_iters_40000.pth 0.9272834623530956\n",
      "checkpoint/bilstm_crf_epoch_6_iters_50000.pth 0.9275291737688951\n",
      "checkpoint/bilstm_crf_epoch_6_iters_60000.pth 0.9268607808257654\n",
      "checkpoint/bilstm_crf_epoch_6_iters_70000.pth 0.9267342312807928\n",
      "checkpoint/bilstm_crf_epoch_6_iters_80000.pth 0.927242660320524\n",
      "checkpoint/bilstm_crf_epoch_6_iters_86918.pth 0.9268384092495514\n",
      "\n"
     ]
    }
   ],
   "source": [
    "import os\n",
    "import tqdm\n",
    "\n",
    "f1_score_list = []\n",
    "for path in tqdm.notebook.tqdm(list(os.walk(\"checkpoint\"))[0][2]):\n",
    "    path = \"checkpoint/\" + path\n",
    "    model.load_state_dict(torch.load(path))\n",
    "    f1_score = test(x_test, y_test)\n",
    "    f1_score_list.append(f1_score)\n",
    "    print(path, f1_score)"
   ]
  },
  {
   "cell_type": "code",
   "execution_count": 18,
   "metadata": {},
   "outputs": [
    {
     "data": {
      "image/png": "[encoded data removed]",
      "text/plain": [
       "<Figure size 432x288 with 1 Axes>"
      ]
     },
     "metadata": {
      "needs_background": "light"
     },
     "output_type": "display_data"
    }
   ],
   "source": [
    "%matplotlib inline\n",
    "import matplotlib.pyplot as plt\n",
    "plt.plot(range(54), f1_score_list)\n",
    "plt.ylabel(\"f1 score\")\n",
    "plt.savefig(\"result.jpg\")"
   ]
  },
  {
   "cell_type": "code",
   "execution_count": null,
   "metadata": {},
   "outputs": [],
   "source": []
  }
 ],
 "metadata": {
  "kernelspec": {
   "display_name": "Python 3",
   "language": "python",
   "name": "python3"
  },
  "language_info": {
   "codemirror_mode": {
    "name": "ipython",
    "version": 3
   },
   "file_extension": ".py",
   "mimetype": "text/x-python",
   "name": "python",
   "nbconvert_exporter": "python",
   "pygments_lexer": "ipython3",
   "version": "3.8.5"
  }
 },
 "nbformat": 4,
 "nbformat_minor": 4
}
